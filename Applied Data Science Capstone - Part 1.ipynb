{
 "cells": [
  {
   "cell_type": "code",
   "execution_count": null,
   "metadata": {},
   "outputs": [],
   "source": [
    "#Part 1: Introduction:\n",
    "#Though for years ramen had been associated with the 99 cent menus of poor college students, it has had a long history in Japan as a proper \"soul food.\" Coupled with a new awareness of ramen culture overseas, this noodle dish is becoming ubiquitous with the younger generation. Datassential reports a 46% jump in mentions over the last 4 years and predicts this trend will increase by another 40%.\n",
    "#So it is no surprise that Los Angeles, which has one of the largest Japanese communities, is home to many new and old ramen shops. \n",
    "#But what part of LA would an up-and-coming chain need to establish its first branch in to grab a foothold into the US market?\n",
    "#The Business Problem:\n",
    "# But what part of LA would an up-and-coming chain need to establish its first branch in to grab a foothold into the US market?"
   ]
  }
 ],
 "metadata": {
  "kernelspec": {
   "display_name": "Python 3",
   "language": "python",
   "name": "python3"
  },
  "language_info": {
   "codemirror_mode": {
    "name": "ipython",
    "version": 3
   },
   "file_extension": ".py",
   "mimetype": "text/x-python",
   "name": "python",
   "nbconvert_exporter": "python",
   "pygments_lexer": "ipython3",
   "version": "3.7.1"
  }
 },
 "nbformat": 4,
 "nbformat_minor": 2
}
