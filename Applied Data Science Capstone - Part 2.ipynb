{
 "cells": [
  {
   "cell_type": "code",
   "execution_count": null,
   "metadata": {},
   "outputs": [],
   "source": [
    "#Part 2: Data Selection\n",
    "#First, we will wrangle data on neighborhoods from the well-known LA Times list. \n",
    "#We use GeoPy to retrieve the coordinates on this data set.\n",
    "#We also evaluate our startup costs using market data on land prices in these areas from Zillow\n",
    "#Leveraging Foursquare's location API, we can gather detailed information on the price range, popularity, and trends for ramen shops in our neighborhoods"
   ]
  }
 ],
 "metadata": {
  "kernelspec": {
   "display_name": "Python 3",
   "language": "python",
   "name": "python3"
  },
  "language_info": {
   "codemirror_mode": {
    "name": "ipython",
    "version": 3
   },
   "file_extension": ".py",
   "mimetype": "text/x-python",
   "name": "python",
   "nbconvert_exporter": "python",
   "pygments_lexer": "ipython3",
   "version": "3.7.1"
  }
 },
 "nbformat": 4,
 "nbformat_minor": 2
}
